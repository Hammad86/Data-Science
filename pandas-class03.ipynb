{
 "cells": [
  {
   "cell_type": "code",
   "execution_count": null,
   "id": "6acdb1eb",
   "metadata": {},
   "outputs": [],
   "source": [
    "import pandas as pd\n",
    "import numpy as np"
   ]
  },
  {
   "cell_type": "code",
   "execution_count": null,
   "id": "e0cd9ee2",
   "metadata": {},
   "outputs": [],
   "source": [
    "data = pd.read_csv('netflix_titles.csv')\n",
    "\n",
    "#Select Data by label (LOC) single column\n",
    "data.loc[:,'type']\n",
    "\n",
    "\n",
    "\n",
    "\n",
    "# data.loc[:,\"country\"].value_counts()\n"
   ]
  },
  {
   "cell_type": "code",
   "execution_count": null,
   "id": "0e96ebbc",
   "metadata": {},
   "outputs": [],
   "source": [
    "# find length of one cell by column\n",
    "arr = data.loc[1,\"cast\"].split(\", \")\n",
    "len(arr)"
   ]
  },
  {
   "cell_type": "code",
   "execution_count": null,
   "id": "72b4d7db",
   "metadata": {},
   "outputs": [],
   "source": [
    "#find total numbers of differnet values in single column\n",
    "data.loc[:,'country'].value_counts()"
   ]
  },
  {
   "cell_type": "code",
   "execution_count": null,
   "id": "b132e8af",
   "metadata": {},
   "outputs": [],
   "source": [
    "#Select Data by label (LOC) multiple columns\n",
    "data.loc[:,['type','title']]"
   ]
  },
  {
   "cell_type": "code",
   "execution_count": null,
   "id": "89eb4c0e",
   "metadata": {},
   "outputs": [],
   "source": [
    "# find row by condition\n",
    "# data.loc[data['title'] =='Kota Factory']\n",
    "data.loc[data['rating'] =='TV-MA']"
   ]
  },
  {
   "cell_type": "code",
   "execution_count": null,
   "id": "313eed7d",
   "metadata": {},
   "outputs": [],
   "source": [
    "#replace NAN with none\n",
    "data[\"cast\"] = data['cast'].replace(np.NAN,\"none\")\n",
    "data"
   ]
  },
  {
   "cell_type": "code",
   "execution_count": null,
   "id": "c673d810",
   "metadata": {},
   "outputs": [],
   "source": [
    "# dividing data by groupby\n",
    "data.groupby(\"type\")[\"rating\"].value_counts()"
   ]
  }
 ],
 "metadata": {
  "kernelspec": {
   "display_name": "Python 3",
   "language": "python",
   "name": "python3"
  },
  "language_info": {
   "codemirror_mode": {
    "name": "ipython",
    "version": 3
   },
   "file_extension": ".py",
   "mimetype": "text/x-python",
   "name": "python",
   "nbconvert_exporter": "python",
   "pygments_lexer": "ipython3",
   "version": "3.8.8"
  }
 },
 "nbformat": 4,
 "nbformat_minor": 5
}
