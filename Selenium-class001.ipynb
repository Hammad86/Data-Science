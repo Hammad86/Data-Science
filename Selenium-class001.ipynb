{
 "cells": [
  {
   "cell_type": "code",
   "execution_count": 1,
   "id": "5b30fea2",
   "metadata": {},
   "outputs": [],
   "source": [
    "from selenium import webdriver\n",
    "import time\n",
    "from urllib.request import urlretrieve"
   ]
  },
  {
   "cell_type": "code",
   "execution_count": 21,
   "id": "92f5d0ad",
   "metadata": {},
   "outputs": [
    {
     "name": "stderr",
     "output_type": "stream",
     "text": [
      "<ipython-input-21-e7bcf4b40f10>:1: DeprecationWarning: executable_path has been deprecated, please pass in a Service object\n",
      "  driver = webdriver.Chrome(executable_path='chromedriver.exe')\n",
      "<ipython-input-21-e7bcf4b40f10>:9: DeprecationWarning: find_elements_by_* commands are deprecated. Please use find_elements() instead\n",
      "  src = driver.find_elements_by_xpath(\"//img[@class='photo image']\")\n",
      "<ipython-input-21-e7bcf4b40f10>:10: DeprecationWarning: find_elements_by_* commands are deprecated. Please use find_elements() instead\n",
      "  prdName = driver.find_elements_by_xpath(\"//a[@class='product-item-link']\")\n"
     ]
    }
   ],
   "source": [
    "driver = webdriver.Chrome(executable_path='chromedriver.exe')\n",
    "\n",
    "# Open Webpage on ChromeDriver\n",
    "driver.get('https://www.naheed.pk/phones-tablets?cat=264')\n",
    "\n",
    "time.sleep(5)\n",
    "\n",
    "# Finding Element by Xpath\n",
    "src = driver.find_elements_by_xpath(\"//img[@class='photo image']\")\n",
    "prdName = driver.find_elements_by_xpath(\"//a[@class='product-item-link']\")\n",
    "# for i in range(len(src)):\n",
    "#     print(prdName[i].text)\n",
    "#     print(src[i].get_attribute('src'))\n",
    "#     urlretrieve(src[i],\"C:/Users/kkc/Desktop/images\" ,prdName[i].text + '.jpg')"
   ]
  },
  {
   "cell_type": "code",
   "execution_count": 2,
   "id": "81775b44",
   "metadata": {},
   "outputs": [
    {
     "name": "stderr",
     "output_type": "stream",
     "text": [
      "<ipython-input-2-61bd92418852>:1: DeprecationWarning: executable_path has been deprecated, please pass in a Service object\n",
      "  driver = webdriver.Chrome(executable_path='chromedriver.exe')\n",
      "<ipython-input-2-61bd92418852>:7: DeprecationWarning: find_element_by_* commands are deprecated. Please use find_element() instead\n",
      "  nextLink = driver.find_element_by_xpath(\"//a[@class='action  next']\")\n"
     ]
    },
    {
     "name": "stdout",
     "output_type": "stream",
     "text": [
      "https://www.naheed.pk/phones-tablets?cat=264&p=2&product_list_limit=20\n"
     ]
    },
    {
     "name": "stderr",
     "output_type": "stream",
     "text": [
      "<ipython-input-2-61bd92418852>:16: DeprecationWarning: find_element_by_* commands are deprecated. Please use find_element() instead\n",
      "  nextLink = driver.find_element_by_xpath(\"//a[@class='action  next']\")\n"
     ]
    },
    {
     "name": "stdout",
     "output_type": "stream",
     "text": [
      "https://www.naheed.pk/phones-tablets?cat=264&p=3&product_list_limit=20\n",
      "https://www.naheed.pk/phones-tablets?cat=264&p=4&product_list_limit=20\n",
      "https://www.naheed.pk/phones-tablets?cat=264&p=5&product_list_limit=20\n",
      "https://www.naheed.pk/phones-tablets?cat=264&p=6&product_list_limit=20\n"
     ]
    }
   ],
   "source": [
    "driver = webdriver.Chrome(executable_path='chromedriver.exe')\n",
    "# Open Webpage on ChromeDriver\n",
    "driver.get('https://www.naheed.pk/phones-tablets?cat=264&product_list_limit=20')\n",
    "\n",
    "driver.execute_script(\"window.scrollTo(0, document.body.scrollHeight);\")\n",
    "\n",
    "nextLink = driver.find_element_by_xpath(\"//a[@class='action  next']\")\n",
    "link = nextLink.get_attribute('href')\n",
    "print(link)\n",
    "flag = True\n",
    "while flag:\n",
    "    try:\n",
    "        driver.get(link)\n",
    "        # Scroll till the end of the page\n",
    "        driver.execute_script(\"window.scrollTo(0, document.body.scrollHeight);\")\n",
    "        nextLink = driver.find_element_by_xpath(\"//a[@class='action  next']\")\n",
    "        link = nextLink.get_attribute('href')\n",
    "        print(link)\n",
    "    except:\n",
    "        flag = False"
   ]
  },
  {
   "cell_type": "code",
   "execution_count": null,
   "id": "4e499a42",
   "metadata": {},
   "outputs": [],
   "source": []
  }
 ],
 "metadata": {
  "kernelspec": {
   "display_name": "Python 3",
   "language": "python",
   "name": "python3"
  },
  "language_info": {
   "codemirror_mode": {
    "name": "ipython",
    "version": 3
   },
   "file_extension": ".py",
   "mimetype": "text/x-python",
   "name": "python",
   "nbconvert_exporter": "python",
   "pygments_lexer": "ipython3",
   "version": "3.8.8"
  }
 },
 "nbformat": 4,
 "nbformat_minor": 5
}
