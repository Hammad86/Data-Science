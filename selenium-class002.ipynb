{
 "cells": [
  {
   "cell_type": "code",
   "execution_count": 1,
   "id": "6cff9086",
   "metadata": {},
   "outputs": [],
   "source": [
    "from selenium import webdriver\n",
    "from selenium.webdriver.common.by import By\n",
    "from selenium.webdriver.support.ui import WebDriverWait\n",
    "from selenium.webdriver.support import expected_conditions as EC\n",
    "import time"
   ]
  },
  {
   "cell_type": "code",
   "execution_count": 11,
   "id": "e55889ae",
   "metadata": {},
   "outputs": [
    {
     "name": "stderr",
     "output_type": "stream",
     "text": [
      "<ipython-input-11-194c51241e31>:2: DeprecationWarning: executable_path has been deprecated, please pass in a Service object\n",
      "  driver = webdriver.Chrome(executable_path='chromedriver.exe')\n",
      "<ipython-input-11-194c51241e31>:12: DeprecationWarning: find_element_by_* commands are deprecated. Please use find_element() instead\n",
      "  input = driver.find_element_by_xpath(\"//input[@class='pr35']\")\n",
      "<ipython-input-11-194c51241e31>:14: DeprecationWarning: find_element_by_* commands are deprecated. Please use find_element() instead\n",
      "  btnGo = driver.find_element_by_xpath(\"//input[@class='btn btn-primary refine-go']\")\n"
     ]
    }
   ],
   "source": [
    "# Open Webpage on ChromeDriver\n",
    "driver = webdriver.Chrome(executable_path='chromedriver.exe')\n",
    "driver.get('https://www.pakwheels.com/used-cars/search/-/')\n",
    "\n",
    "# Waits (Implicit Wait)\n",
    "# driver.implicitly_wait(20)\n",
    "# btnCancel = driveriver.find_element_by_xpath(\"//button[@id='onesignal-slidedown-cancel-button']\")\n",
    "# btnCancel.click()\n",
    "time.sleep(15)\n",
    "#Send Keys\n",
    "\n",
    "input = driver.find_element_by_xpath(\"//input[@class='pr35']\")\n",
    "input.send_keys(\"Suzuki\")\n",
    "btnGo = driver.find_element_by_xpath(\"//input[@class='btn btn-primary refine-go']\")\n",
    "btnGo.click()"
   ]
  }
 ],
 "metadata": {
  "kernelspec": {
   "display_name": "Python 3",
   "language": "python",
   "name": "python3"
  },
  "language_info": {
   "codemirror_mode": {
    "name": "ipython",
    "version": 3
   },
   "file_extension": ".py",
   "mimetype": "text/x-python",
   "name": "python",
   "nbconvert_exporter": "python",
   "pygments_lexer": "ipython3",
   "version": "3.8.8"
  }
 },
 "nbformat": 4,
 "nbformat_minor": 5
}
