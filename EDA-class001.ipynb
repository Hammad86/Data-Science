{
 "cells": [
  {
   "cell_type": "code",
   "execution_count": 1,
   "id": "c754d5b8",
   "metadata": {},
   "outputs": [],
   "source": [
    "#EDA\n",
    "import pandas as pd\n",
    "import seaborn as sns"
   ]
  },
  {
   "cell_type": "code",
   "execution_count": 6,
   "id": "297f2c77",
   "metadata": {},
   "outputs": [
    {
     "data": {
      "text/html": [
       "<div>\n",
       "<style scoped>\n",
       "    .dataframe tbody tr th:only-of-type {\n",
       "        vertical-align: middle;\n",
       "    }\n",
       "\n",
       "    .dataframe tbody tr th {\n",
       "        vertical-align: top;\n",
       "    }\n",
       "\n",
       "    .dataframe thead th {\n",
       "        text-align: right;\n",
       "    }\n",
       "</style>\n",
       "<table border=\"1\" class=\"dataframe\">\n",
       "  <thead>\n",
       "    <tr style=\"text-align: right;\">\n",
       "      <th></th>\n",
       "      <th>Show Id</th>\n",
       "      <th>Title</th>\n",
       "      <th>Description</th>\n",
       "      <th>Director</th>\n",
       "      <th>Genres</th>\n",
       "      <th>Cast</th>\n",
       "      <th>Production Country</th>\n",
       "      <th>Release Date</th>\n",
       "      <th>Rating</th>\n",
       "      <th>Duration</th>\n",
       "      <th>Imdb Score</th>\n",
       "      <th>Content Type</th>\n",
       "      <th>Date Added</th>\n",
       "    </tr>\n",
       "  </thead>\n",
       "  <tbody>\n",
       "    <tr>\n",
       "      <th>0</th>\n",
       "      <td>cc1b6ed9-cf9e-4057-8303-34577fb54477</td>\n",
       "      <td>(Un)Well</td>\n",
       "      <td>This docuseries takes a deep dive into the luc...</td>\n",
       "      <td>NaN</td>\n",
       "      <td>Reality TV</td>\n",
       "      <td>NaN</td>\n",
       "      <td>United States</td>\n",
       "      <td>2020.0</td>\n",
       "      <td>TV-MA</td>\n",
       "      <td>1 Season</td>\n",
       "      <td>6.6/10</td>\n",
       "      <td>TV Show</td>\n",
       "      <td>NaN</td>\n",
       "    </tr>\n",
       "    <tr>\n",
       "      <th>1</th>\n",
       "      <td>e2ef4e91-fb25-42ab-b485-be8e3b23dedb</td>\n",
       "      <td>#Alive</td>\n",
       "      <td>As a grisly virus rampages a city, a lone man ...</td>\n",
       "      <td>Cho Il</td>\n",
       "      <td>Horror Movies, International Movies, Thrillers</td>\n",
       "      <td>Yoo Ah-in, Park Shin-hye</td>\n",
       "      <td>South Korea</td>\n",
       "      <td>2020.0</td>\n",
       "      <td>TV-MA</td>\n",
       "      <td>99 min</td>\n",
       "      <td>6.2/10</td>\n",
       "      <td>Movie</td>\n",
       "      <td>September 8, 2020</td>\n",
       "    </tr>\n",
       "    <tr>\n",
       "      <th>2</th>\n",
       "      <td>b01b73b7-81f6-47a7-86d8-acb63080d525</td>\n",
       "      <td>#AnneFrank - Parallel Stories</td>\n",
       "      <td>Through her diary, Anne Frank's story is retol...</td>\n",
       "      <td>Sabina Fedeli, Anna Migotto</td>\n",
       "      <td>Documentaries, International Movies</td>\n",
       "      <td>Helen Mirren, Gengher Gatti</td>\n",
       "      <td>Italy</td>\n",
       "      <td>2019.0</td>\n",
       "      <td>TV-14</td>\n",
       "      <td>95 min</td>\n",
       "      <td>6.4/10</td>\n",
       "      <td>Movie</td>\n",
       "      <td>July 1, 2020</td>\n",
       "    </tr>\n",
       "    <tr>\n",
       "      <th>3</th>\n",
       "      <td>b6611af0-f53c-4a08-9ffa-9716dc57eb9c</td>\n",
       "      <td>#blackAF</td>\n",
       "      <td>Kenya Barris and his family navigate relations...</td>\n",
       "      <td>NaN</td>\n",
       "      <td>TV Comedies</td>\n",
       "      <td>Kenya Barris, Rashida Jones, Iman Benson, Genn...</td>\n",
       "      <td>United States</td>\n",
       "      <td>2020.0</td>\n",
       "      <td>TV-MA</td>\n",
       "      <td>1 Season</td>\n",
       "      <td>6.6/10</td>\n",
       "      <td>TV Show</td>\n",
       "      <td>NaN</td>\n",
       "    </tr>\n",
       "    <tr>\n",
       "      <th>4</th>\n",
       "      <td>7f2d4170-bab8-4d75-adc2-197f7124c070</td>\n",
       "      <td>#cats_the_mewvie</td>\n",
       "      <td>This pawesome documentary explores how our fel...</td>\n",
       "      <td>Michael Margolis</td>\n",
       "      <td>Documentaries, International Movies</td>\n",
       "      <td>NaN</td>\n",
       "      <td>Canada</td>\n",
       "      <td>2020.0</td>\n",
       "      <td>TV-14</td>\n",
       "      <td>90 min</td>\n",
       "      <td>5.1/10</td>\n",
       "      <td>Movie</td>\n",
       "      <td>February 5, 2020</td>\n",
       "    </tr>\n",
       "  </tbody>\n",
       "</table>\n",
       "</div>"
      ],
      "text/plain": [
       "                                Show Id                          Title  \\\n",
       "0  cc1b6ed9-cf9e-4057-8303-34577fb54477                       (Un)Well   \n",
       "1  e2ef4e91-fb25-42ab-b485-be8e3b23dedb                         #Alive   \n",
       "2  b01b73b7-81f6-47a7-86d8-acb63080d525  #AnneFrank - Parallel Stories   \n",
       "3  b6611af0-f53c-4a08-9ffa-9716dc57eb9c                       #blackAF   \n",
       "4  7f2d4170-bab8-4d75-adc2-197f7124c070               #cats_the_mewvie   \n",
       "\n",
       "                                         Description  \\\n",
       "0  This docuseries takes a deep dive into the luc...   \n",
       "1  As a grisly virus rampages a city, a lone man ...   \n",
       "2  Through her diary, Anne Frank's story is retol...   \n",
       "3  Kenya Barris and his family navigate relations...   \n",
       "4  This pawesome documentary explores how our fel...   \n",
       "\n",
       "                      Director  \\\n",
       "0                          NaN   \n",
       "1                       Cho Il   \n",
       "2  Sabina Fedeli, Anna Migotto   \n",
       "3                          NaN   \n",
       "4             Michael Margolis   \n",
       "\n",
       "                                           Genres  \\\n",
       "0                                      Reality TV   \n",
       "1  Horror Movies, International Movies, Thrillers   \n",
       "2             Documentaries, International Movies   \n",
       "3                                     TV Comedies   \n",
       "4             Documentaries, International Movies   \n",
       "\n",
       "                                                Cast Production Country  \\\n",
       "0                                                NaN      United States   \n",
       "1                           Yoo Ah-in, Park Shin-hye        South Korea   \n",
       "2                        Helen Mirren, Gengher Gatti              Italy   \n",
       "3  Kenya Barris, Rashida Jones, Iman Benson, Genn...      United States   \n",
       "4                                                NaN             Canada   \n",
       "\n",
       "   Release Date Rating  Duration Imdb Score Content Type         Date Added  \n",
       "0        2020.0  TV-MA  1 Season     6.6/10      TV Show                NaN  \n",
       "1        2020.0  TV-MA    99 min     6.2/10        Movie  September 8, 2020  \n",
       "2        2019.0  TV-14    95 min     6.4/10        Movie       July 1, 2020  \n",
       "3        2020.0  TV-MA  1 Season     6.6/10      TV Show                NaN  \n",
       "4        2020.0  TV-14    90 min     5.1/10        Movie   February 5, 2020  "
      ]
     },
     "execution_count": 6,
     "metadata": {},
     "output_type": "execute_result"
    }
   ],
   "source": [
    "data = pd.read_csv('netflixData.csv')\n",
    "data.head()"
   ]
  },
  {
   "cell_type": "code",
   "execution_count": 4,
   "id": "33dd4dc6",
   "metadata": {},
   "outputs": [
    {
     "data": {
      "text/plain": [
       "<AxesSubplot:>"
      ]
     },
     "execution_count": 4,
     "metadata": {},
     "output_type": "execute_result"
    },
    {
     "data": {
      "image/png": "[encoded data removed]",
      "text/plain": [
       "<Figure size 432x288 with 2 Axes>"
      ]
     },
     "metadata": {
      "needs_background": "light"
     },
     "output_type": "display_data"
    }
   ],
   "source": [
    "sns.heatmap(data.isnull())"
   ]
  },
  {
   "cell_type": "code",
   "execution_count": 8,
   "id": "1f2fa9ed",
   "metadata": {},
   "outputs": [
    {
     "data": {
      "text/plain": [
       "<AxesSubplot:xlabel='Content Type', ylabel='count'>"
      ]
     },
     "execution_count": 8,
     "metadata": {},
     "output_type": "execute_result"
    },
    {
     "data": {
      "image/png": "[encoded data removed]",
      "text/plain": [
       "<Figure size 432x288 with 1 Axes>"
      ]
     },
     "metadata": {
      "needs_background": "light"
     },
     "output_type": "display_data"
    }
   ],
   "source": [
    "sns.countplot(x='Content Type',data=data)"
   ]
  },
  {
   "cell_type": "code",
   "execution_count": 16,
   "id": "37ea68db",
   "metadata": {},
   "outputs": [
    {
     "data": {
      "text/plain": [
       "Argentina, Uruguay, Spain, France            1\n",
       "Germany, Czech Republic                      1\n",
       "United States, United Kingdom, Romania       1\n",
       "France, Lebanon, United Kingdom              1\n",
       "United Kingdom, Belgium                      1\n",
       "                                          ... \n",
       "South Korea                                167\n",
       "Japan                                      221\n",
       "United Kingdom                             244\n",
       "India                                      628\n",
       "United States                             1792\n",
       "Name: Production Country, Length: 509, dtype: int64"
      ]
     },
     "execution_count": 16,
     "metadata": {},
     "output_type": "execute_result"
    }
   ],
   "source": [
    "data.loc[:,\"Production Country\"].value_counts().sort_values()\n",
    "# dividing data by groupby\n",
    "# data.groupby(\"Content Type\")[\"Production Country\"].value_counts()"
   ]
  },
  {
   "cell_type": "code",
   "execution_count": 18,
   "id": "c613d842",
   "metadata": {},
   "outputs": [
    {
     "data": {
      "text/html": [
       "<div>\n",
       "<style scoped>\n",
       "    .dataframe tbody tr th:only-of-type {\n",
       "        vertical-align: middle;\n",
       "    }\n",
       "\n",
       "    .dataframe tbody tr th {\n",
       "        vertical-align: top;\n",
       "    }\n",
       "\n",
       "    .dataframe thead th {\n",
       "        text-align: right;\n",
       "    }\n",
       "</style>\n",
       "<table border=\"1\" class=\"dataframe\">\n",
       "  <thead>\n",
       "    <tr style=\"text-align: right;\">\n",
       "      <th></th>\n",
       "      <th></th>\n",
       "      <th>Production Country</th>\n",
       "    </tr>\n",
       "    <tr>\n",
       "      <th>Content Type</th>\n",
       "      <th>Production Country</th>\n",
       "      <th></th>\n",
       "    </tr>\n",
       "  </thead>\n",
       "  <tbody>\n",
       "    <tr>\n",
       "      <th rowspan=\"5\" valign=\"top\">Movie</th>\n",
       "      <th>United States</th>\n",
       "      <td>1168</td>\n",
       "    </tr>\n",
       "    <tr>\n",
       "      <th>India</th>\n",
       "      <td>589</td>\n",
       "    </tr>\n",
       "    <tr>\n",
       "      <th>United Kingdom</th>\n",
       "      <td>103</td>\n",
       "    </tr>\n",
       "    <tr>\n",
       "      <th>Spain</th>\n",
       "      <td>88</td>\n",
       "    </tr>\n",
       "    <tr>\n",
       "      <th>Nigeria</th>\n",
       "      <td>78</td>\n",
       "    </tr>\n",
       "    <tr>\n",
       "      <th>...</th>\n",
       "      <th>...</th>\n",
       "      <td>...</td>\n",
       "    </tr>\n",
       "    <tr>\n",
       "      <th rowspan=\"5\" valign=\"top\">TV Show</th>\n",
       "      <th>United States, Poland</th>\n",
       "      <td>1</td>\n",
       "    </tr>\n",
       "    <tr>\n",
       "      <th>United States, Russia</th>\n",
       "      <td>1</td>\n",
       "    </tr>\n",
       "    <tr>\n",
       "      <th>United States, Sweden</th>\n",
       "      <td>1</td>\n",
       "    </tr>\n",
       "    <tr>\n",
       "      <th>United States, United Kingdom, Australia</th>\n",
       "      <td>1</td>\n",
       "    </tr>\n",
       "    <tr>\n",
       "      <th>Uruguay, Germany</th>\n",
       "      <td>1</td>\n",
       "    </tr>\n",
       "  </tbody>\n",
       "</table>\n",
       "<p>590 rows × 1 columns</p>\n",
       "</div>"
      ],
      "text/plain": [
       "                                                       Production Country\n",
       "Content Type Production Country                                          \n",
       "Movie        United States                                           1168\n",
       "             India                                                    589\n",
       "             United Kingdom                                           103\n",
       "             Spain                                                     88\n",
       "             Nigeria                                                   78\n",
       "...                                                                   ...\n",
       "TV Show      United States, Poland                                      1\n",
       "             United States, Russia                                      1\n",
       "             United States, Sweden                                      1\n",
       "             United States, United Kingdom, Australia                   1\n",
       "             Uruguay, Germany                                           1\n",
       "\n",
       "[590 rows x 1 columns]"
      ]
     },
     "execution_count": 18,
     "metadata": {},
     "output_type": "execute_result"
    }
   ],
   "source": [
    "#creating a new data frame\n",
    "arr = data.groupby(\"Content Type\")[\"Production Country\"].value_counts()\n",
    "arr2 = pd.DataFrame(arr)\n",
    "arr2"
   ]
  }
 ],
 "metadata": {
  "kernelspec": {
   "display_name": "Python 3",
   "language": "python",
   "name": "python3"
  },
  "language_info": {
   "codemirror_mode": {
    "name": "ipython",
    "version": 3
   },
   "file_extension": ".py",
   "mimetype": "text/x-python",
   "name": "python",
   "nbconvert_exporter": "python",
   "pygments_lexer": "ipython3",
   "version": "3.8.8"
  }
 },
 "nbformat": 4,
 "nbformat_minor": 5
}
